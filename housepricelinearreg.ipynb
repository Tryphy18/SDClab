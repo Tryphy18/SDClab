{
  "nbformat": 4,
  "nbformat_minor": 0,
  "metadata": {
    "colab": {
      "provenance": [],
      "authorship_tag": "ABX9TyOPFjOyheZbiscANQR+8QBE",
      "include_colab_link": true
    },
    "kernelspec": {
      "name": "python3",
      "display_name": "Python 3"
    },
    "language_info": {
      "name": "python"
    }
  },
  "cells": [
    {
      "cell_type": "markdown",
      "metadata": {
        "id": "view-in-github",
        "colab_type": "text"
      },
      "source": [
        "<a href=\"https://colab.research.google.com/github/Tryphy18/SDClab/blob/main/housepricelinearreg.ipynb\" target=\"_parent\"><img src=\"https://colab.research.google.com/assets/colab-badge.svg\" alt=\"Open In Colab\"/></a>"
      ]
    },
    {
      "cell_type": "code",
      "execution_count": null,
      "metadata": {
        "id": "8Jbaq2ka0Dav",
        "collapsed": true
      },
      "outputs": [],
      "source": [
        "\n"
      ]
    },
    {
      "cell_type": "code",
      "source": [],
      "metadata": {
        "id": "xqN9NDgd0H8T",
        "collapsed": true
      },
      "execution_count": null,
      "outputs": []
    },
    {
      "cell_type": "code",
      "source": [],
      "metadata": {
        "id": "f222lNQJ0S7a",
        "collapsed": true
      },
      "execution_count": null,
      "outputs": []
    },
    {
      "cell_type": "code",
      "source": [
        "pip install gradio pandas scikit-learn"
      ],
      "metadata": {
        "collapsed": true,
        "id": "izsEnpvtjn55"
      },
      "execution_count": null,
      "outputs": []
    },
    {
      "cell_type": "code",
      "source": [
        "import gradio as gr\n",
        "import pandas as pd\n",
        "from sklearn.linear_model import LinearRegression\n",
        "from sklearn.model_selection import train_test_split\n",
        "\n",
        "# Step 1: Sample dataset\n",
        "data = {\n",
        "    \"Area\": [1000, 1500, 2000, 2500, 3000],\n",
        "    \"Bedrooms\": [2, 3, 3, 4, 5],\n",
        "    \"Age\": [10, 5, 20, 7, 2],\n",
        "    \"Price\": [300000, 400000, 500000, 600000, 650000]\n",
        "}\n",
        "\n",
        "df = pd.DataFrame(data)\n",
        "\n",
        "# Step 2: Train a simple model\n",
        "X = df[[\"Area\", \"Bedrooms\", \"Age\"]]\n",
        "y = df[\"Price\"]\n",
        "\n",
        "model = LinearRegression()\n",
        "model.fit(X, y)\n",
        "\n",
        "# Step 3: Define prediction function\n",
        "def predict_price(area, bedrooms, age):\n",
        "    input_data = [[area, bedrooms, age]]\n",
        "    prediction = model.predict(input_data)[0]\n",
        "    return f\"${prediction:,.2f}\"\n",
        "\n",
        "# Step 4: Create Gradio interface\n",
        "iface = gr.Interface(\n",
        "    fn=predict_price,\n",
        "    inputs=[\n",
        "        gr.Number(label=\"Area (sq ft)\"),\n",
        "        gr.Number(label=\"Bedrooms\"),\n",
        "        gr.Number(label=\"Age of the House (years)\")\n",
        "    ],\n",
        "    outputs=\"text\",\n",
        "    title=\"🏠 House Price Predictor\",\n",
        "    description=\"Enter the area, number of bedrooms, and age of the house to predict its price.\"\n",
        ")\n",
        "\n",
        "# Step 5: Launch\n",
        "iface.launch()"
      ],
      "metadata": {
        "colab": {
          "base_uri": "https://localhost:8080/",
          "height": 646
        },
        "id": "WsPwwUDYjvrf",
        "outputId": "21ab4eb7-e686-48ad-ba22-c173cffe81ba"
      },
      "execution_count": 3,
      "outputs": [
        {
          "output_type": "stream",
          "name": "stdout",
          "text": [
            "It looks like you are running Gradio on a hosted a Jupyter notebook. For the Gradio app to work, sharing must be enabled. Automatically setting `share=True` (you can turn this off by setting `share=False` in `launch()` explicitly).\n",
            "\n",
            "Colab notebook detected. To show errors in colab notebook, set debug=True in launch()\n",
            "* Running on public URL: https://064eb11924f4e808d9.gradio.live\n",
            "\n",
            "This share link expires in 1 week. For free permanent hosting and GPU upgrades, run `gradio deploy` from the terminal in the working directory to deploy to Hugging Face Spaces (https://huggingface.co/spaces)\n"
          ]
        },
        {
          "output_type": "display_data",
          "data": {
            "text/plain": [
              "<IPython.core.display.HTML object>"
            ],
            "text/html": [
              "<div><iframe src=\"https://064eb11924f4e808d9.gradio.live\" width=\"100%\" height=\"500\" allow=\"autoplay; camera; microphone; clipboard-read; clipboard-write;\" frameborder=\"0\" allowfullscreen></iframe></div>"
            ]
          },
          "metadata": {}
        },
        {
          "output_type": "execute_result",
          "data": {
            "text/plain": []
          },
          "metadata": {},
          "execution_count": 3
        }
      ]
    }
  ]
}