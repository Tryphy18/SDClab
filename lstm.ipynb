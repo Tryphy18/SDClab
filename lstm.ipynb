{
  "nbformat": 4,
  "nbformat_minor": 0,
  "metadata": {
    "colab": {
      "provenance": [],
      "authorship_tag": "ABX9TyOOGP7L1Sa/EY4j69dpu3Pu",
      "include_colab_link": true
    },
    "kernelspec": {
      "name": "python3",
      "display_name": "Python 3"
    },
    "language_info": {
      "name": "python"
    }
  },
  "cells": [
    {
      "cell_type": "markdown",
      "metadata": {
        "id": "view-in-github",
        "colab_type": "text"
      },
      "source": [
        "<a href=\"https://colab.research.google.com/github/Tryphy18/SDClab/blob/main/lstm.ipynb\" target=\"_parent\"><img src=\"https://colab.research.google.com/assets/colab-badge.svg\" alt=\"Open In Colab\"/></a>"
      ]
    },
    {
      "cell_type": "code",
      "execution_count": null,
      "metadata": {
        "id": "j16hCKay32Zx"
      },
      "outputs": [],
      "source": [
        "pip install gradio"
      ]
    },
    {
      "cell_type": "code",
      "source": [
        "import gradio as gr\n",
        "import numpy as np\n",
        "from tensorflow.keras.models import Sequential\n",
        "from tensorflow.keras.layers import LSTM, Dense\n",
        "\n",
        "# Generate synthetic time-series data (sine wave)\n",
        "def generate_data(seq_len=50, total=1000):\n",
        "    x = np.linspace(0, 100, total)\n",
        "    y = np.sin(x)\n",
        "    X, Y = [], []\n",
        "    for i in range(len(y) - seq_len):\n",
        "        X.append(y[i:i+seq_len])\n",
        "        Y.append(y[i+seq_len])\n",
        "    X = np.array(X).reshape(-1, seq_len, 1)\n",
        "    Y = np.array(Y)\n",
        "    return X, Y\n",
        "\n",
        "X, Y = generate_data()\n",
        "\n",
        "# Build LSTM model\n",
        "model = Sequential([\n",
        "    LSTM(50, activation=\"relu\", input_shape=(X.shape[1], 1)),\n",
        "    Dense(1)\n",
        "])\n",
        "model.compile(optimizer=\"adam\", loss=\"mse\")\n",
        "model.fit(X, Y, epochs=10, verbose=0)\n",
        "\n",
        "# Predict next value given recent sequence\n",
        "def forecast(series):\n",
        "    try:\n",
        "        values = [float(x) for x in series.strip().split(',')]\n",
        "        if len(values) < 50:\n",
        "            return \"Provide at least 50 comma-separated values.\"\n",
        "        input_seq = np.array(values[-50:]).reshape(1, 50, 1)\n",
        "        prediction = model.predict(input_seq)[0][0]\n",
        "        return f\"Forecasted Next Value: {prediction:.4f}\"\n",
        "    except Exception as e:\n",
        "        return f\"Error: {str(e)}\"\n",
        "\n",
        "gr.Interface(\n",
        "    fn=forecast,\n",
        "    inputs=gr.Textbox(label=\"Enter 50+ comma-separated time series values\"),\n",
        "    outputs=\"text\",\n",
        "    title=\"LSTM – Time Series Forecasting\",\n",
        "    description=\"Predicts the next value using LSTM from the given time-series sequence\"\n",
        ").launch()\n"
      ],
      "metadata": {
        "colab": {
          "base_uri": "https://localhost:8080/",
          "height": 680
        },
        "id": "dno8n76N4X6g",
        "outputId": "c3d7c0f0-303d-4a90-e5e4-8e62f898be70"
      },
      "execution_count": 2,
      "outputs": [
        {
          "output_type": "stream",
          "name": "stderr",
          "text": [
            "/usr/local/lib/python3.11/dist-packages/keras/src/layers/rnn/rnn.py:200: UserWarning: Do not pass an `input_shape`/`input_dim` argument to a layer. When using Sequential models, prefer using an `Input(shape)` object as the first layer in the model instead.\n",
            "  super().__init__(**kwargs)\n"
          ]
        },
        {
          "output_type": "stream",
          "name": "stdout",
          "text": [
            "It looks like you are running Gradio on a hosted a Jupyter notebook. For the Gradio app to work, sharing must be enabled. Automatically setting `share=True` (you can turn this off by setting `share=False` in `launch()` explicitly).\n",
            "\n",
            "Colab notebook detected. To show errors in colab notebook, set debug=True in launch()\n",
            "* Running on public URL: https://1e26a33a014f45a250.gradio.live\n",
            "\n",
            "This share link expires in 1 week. For free permanent hosting and GPU upgrades, run `gradio deploy` from the terminal in the working directory to deploy to Hugging Face Spaces (https://huggingface.co/spaces)\n"
          ]
        },
        {
          "output_type": "display_data",
          "data": {
            "text/plain": [
              "<IPython.core.display.HTML object>"
            ],
            "text/html": [
              "<div><iframe src=\"https://1e26a33a014f45a250.gradio.live\" width=\"100%\" height=\"500\" allow=\"autoplay; camera; microphone; clipboard-read; clipboard-write;\" frameborder=\"0\" allowfullscreen></iframe></div>"
            ]
          },
          "metadata": {}
        },
        {
          "output_type": "execute_result",
          "data": {
            "text/plain": []
          },
          "metadata": {},
          "execution_count": 2
        }
      ]
    }
  ]
}