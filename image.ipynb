{
  "nbformat": 4,
  "nbformat_minor": 0,
  "metadata": {
    "colab": {
      "provenance": [],
      "authorship_tag": "ABX9TyMsEQ8wzVtWrF4EqxbUwzhk",
      "include_colab_link": true
    },
    "kernelspec": {
      "name": "python3",
      "display_name": "Python 3"
    },
    "language_info": {
      "name": "python"
    }
  },
  "cells": [
    {
      "cell_type": "markdown",
      "metadata": {
        "id": "view-in-github",
        "colab_type": "text"
      },
      "source": [
        "<a href=\"https://colab.research.google.com/github/Tryphy18/SDClab/blob/main/image.ipynb\" target=\"_parent\"><img src=\"https://colab.research.google.com/assets/colab-badge.svg\" alt=\"Open In Colab\"/></a>"
      ]
    },
    {
      "cell_type": "code",
      "execution_count": null,
      "metadata": {
        "id": "6zGlSX0OGJTq"
      },
      "outputs": [],
      "source": [
        "!pip install -q diffusers transformers accelerate scipy safetensors\n",
        "\n",
        "# ✅ Step 2: Import the libraries\n",
        "import torch\n",
        "from diffusers import StableDiffusionPipeline\n",
        "import matplotlib.pyplot as plt\n",
        "\n",
        "# ✅ Step 3: Enable GPU if available\n",
        "device = \"cuda\" if torch.cuda.is_available() else \"cpu\"\n",
        "print(f\"Using device: {device}\")\n",
        "\n",
        "# ✅ Step 4: Load the pre-trained model\n",
        "pipe = StableDiffusionPipeline.from_pretrained(\n",
        "    \"runwayml/stable-diffusion-v1-5\",\n",
        "    torch_dtype=torch.float16 if device == \"cuda\" else torch.float32,\n",
        "    revision=\"fp16\" if device == \"cuda\" else None\n",
        ")\n",
        "pipe = pipe.to(device)\n",
        "\n",
        "# ✅ Step 5: Function to generate image\n",
        "def generate_image(prompt):\n",
        "    print(f\"Generating image for prompt: {prompt}\")\n",
        "    image = pipe(prompt, num_inference_steps=25, height=384, width=384).images[0]\n",
        "    return image\n",
        "\n",
        "# ✅ Step 6: Input your text prompt\n",
        "prompt = \"a magical forest with glowing trees and fairies\"\n",
        "\n",
        "# ✅ Step 7: Generate and show image\n",
        "img = generate_image(prompt)\n",
        "plt.imshow(img)\n",
        "plt.axis(\"off\")\n",
        "plt.show()\n"
      ]
    }
  ]
}